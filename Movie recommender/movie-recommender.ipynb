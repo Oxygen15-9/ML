{
 "cells": [
  {
   "cell_type": "code",
   "execution_count": 222,
   "id": "36a3ef03-8d23-448a-bc14-cb1d7472cf5b",
   "metadata": {},
   "outputs": [],
   "source": [
    "import pandas as pd\n",
    "import numpy as np"
   ]
  },
  {
   "cell_type": "code",
   "execution_count": 223,
   "id": "ccc35d42-56d0-40d3-9f00-159438a6d89f",
   "metadata": {},
   "outputs": [],
   "source": [
    "movies = pd.read_csv(\"tmdb_5000_movies.csv\")\n",
    "credits = pd.read_csv(\"tmdb_5000_credits.csv\")"
   ]
  },
  {
   "cell_type": "code",
   "execution_count": 224,
   "id": "c7bb281c-1177-4a03-b04d-cb59f46a07ac",
   "metadata": {},
   "outputs": [
    {
     "data": {
      "text/plain": [
       "(4803, 20)"
      ]
     },
     "execution_count": 224,
     "metadata": {},
     "output_type": "execute_result"
    }
   ],
   "source": [
    "movies.shape"
   ]
  },
  {
   "cell_type": "code",
   "execution_count": 225,
   "id": "fd9e75ac-ab06-453d-99e7-d1bb3e6f963c",
   "metadata": {},
   "outputs": [],
   "source": [
    "# movies['adult'].value_counts"
   ]
  },
  {
   "cell_type": "code",
   "execution_count": 226,
   "id": "7c508ef8-ef44-4815-ab29-52a1d7aedbeb",
   "metadata": {},
   "outputs": [],
   "source": [
    "movies = movies.merge(credits,on='title')\n"
   ]
  },
  {
   "cell_type": "code",
   "execution_count": 227,
   "id": "6d185d33-b1cc-4a5e-bcc3-c7373e4b4c20",
   "metadata": {
    "scrolled": true
   },
   "outputs": [
    {
     "name": "stdout",
     "output_type": "stream",
     "text": [
      "<class 'pandas.core.frame.DataFrame'>\n",
      "RangeIndex: 4809 entries, 0 to 4808\n",
      "Data columns (total 23 columns):\n",
      " #   Column                Non-Null Count  Dtype  \n",
      "---  ------                --------------  -----  \n",
      " 0   budget                4809 non-null   int64  \n",
      " 1   genres                4809 non-null   object \n",
      " 2   homepage              1713 non-null   object \n",
      " 3   id                    4809 non-null   int64  \n",
      " 4   keywords              4809 non-null   object \n",
      " 5   original_language     4809 non-null   object \n",
      " 6   original_title        4809 non-null   object \n",
      " 7   overview              4806 non-null   object \n",
      " 8   popularity            4809 non-null   float64\n",
      " 9   production_companies  4809 non-null   object \n",
      " 10  production_countries  4809 non-null   object \n",
      " 11  release_date          4808 non-null   object \n",
      " 12  revenue               4809 non-null   int64  \n",
      " 13  runtime               4807 non-null   float64\n",
      " 14  spoken_languages      4809 non-null   object \n",
      " 15  status                4809 non-null   object \n",
      " 16  tagline               3965 non-null   object \n",
      " 17  title                 4809 non-null   object \n",
      " 18  vote_average          4809 non-null   float64\n",
      " 19  vote_count            4809 non-null   int64  \n",
      " 20  movie_id              4809 non-null   int64  \n",
      " 21  cast                  4809 non-null   object \n",
      " 22  crew                  4809 non-null   object \n",
      "dtypes: float64(3), int64(5), object(15)\n",
      "memory usage: 864.2+ KB\n"
     ]
    }
   ],
   "source": [
    "movies.info()"
   ]
  },
  {
   "cell_type": "markdown",
   "id": "7255baa4-c051-4de4-a86c-decdd4ef85aa",
   "metadata": {},
   "source": [
    "## keeping following columns\n",
    "movie_id, \n",
    "genre, \n",
    "keywords, \n",
    "title, \n",
    "overview, \n",
    "cast, \n",
    "crew"
   ]
  },
  {
   "cell_type": "code",
   "execution_count": 228,
   "id": "c24a0bb4-bf5d-414f-b241-8025a9097463",
   "metadata": {},
   "outputs": [
    {
     "data": {
      "text/html": [
       "<div>\n",
       "<style scoped>\n",
       "    .dataframe tbody tr th:only-of-type {\n",
       "        vertical-align: middle;\n",
       "    }\n",
       "\n",
       "    .dataframe tbody tr th {\n",
       "        vertical-align: top;\n",
       "    }\n",
       "\n",
       "    .dataframe thead th {\n",
       "        text-align: right;\n",
       "    }\n",
       "</style>\n",
       "<table border=\"1\" class=\"dataframe\">\n",
       "  <thead>\n",
       "    <tr style=\"text-align: right;\">\n",
       "      <th></th>\n",
       "      <th>movie_id</th>\n",
       "      <th>title</th>\n",
       "      <th>overview</th>\n",
       "      <th>genres</th>\n",
       "      <th>keywords</th>\n",
       "      <th>cast</th>\n",
       "      <th>crew</th>\n",
       "    </tr>\n",
       "  </thead>\n",
       "  <tbody>\n",
       "    <tr>\n",
       "      <th>0</th>\n",
       "      <td>19995</td>\n",
       "      <td>Avatar</td>\n",
       "      <td>In the 22nd century, a paraplegic Marine is di...</td>\n",
       "      <td>[{\"id\": 28, \"name\": \"Action\"}, {\"id\": 12, \"nam...</td>\n",
       "      <td>[{\"id\": 1463, \"name\": \"culture clash\"}, {\"id\":...</td>\n",
       "      <td>[{\"cast_id\": 242, \"character\": \"Jake Sully\", \"...</td>\n",
       "      <td>[{\"credit_id\": \"52fe48009251416c750aca23\", \"de...</td>\n",
       "    </tr>\n",
       "    <tr>\n",
       "      <th>1</th>\n",
       "      <td>285</td>\n",
       "      <td>Pirates of the Caribbean: At World's End</td>\n",
       "      <td>Captain Barbossa, long believed to be dead, ha...</td>\n",
       "      <td>[{\"id\": 12, \"name\": \"Adventure\"}, {\"id\": 14, \"...</td>\n",
       "      <td>[{\"id\": 270, \"name\": \"ocean\"}, {\"id\": 726, \"na...</td>\n",
       "      <td>[{\"cast_id\": 4, \"character\": \"Captain Jack Spa...</td>\n",
       "      <td>[{\"credit_id\": \"52fe4232c3a36847f800b579\", \"de...</td>\n",
       "    </tr>\n",
       "    <tr>\n",
       "      <th>2</th>\n",
       "      <td>206647</td>\n",
       "      <td>Spectre</td>\n",
       "      <td>A cryptic message from Bond’s past sends him o...</td>\n",
       "      <td>[{\"id\": 28, \"name\": \"Action\"}, {\"id\": 12, \"nam...</td>\n",
       "      <td>[{\"id\": 470, \"name\": \"spy\"}, {\"id\": 818, \"name...</td>\n",
       "      <td>[{\"cast_id\": 1, \"character\": \"James Bond\", \"cr...</td>\n",
       "      <td>[{\"credit_id\": \"54805967c3a36829b5002c41\", \"de...</td>\n",
       "    </tr>\n",
       "    <tr>\n",
       "      <th>3</th>\n",
       "      <td>49026</td>\n",
       "      <td>The Dark Knight Rises</td>\n",
       "      <td>Following the death of District Attorney Harve...</td>\n",
       "      <td>[{\"id\": 28, \"name\": \"Action\"}, {\"id\": 80, \"nam...</td>\n",
       "      <td>[{\"id\": 849, \"name\": \"dc comics\"}, {\"id\": 853,...</td>\n",
       "      <td>[{\"cast_id\": 2, \"character\": \"Bruce Wayne / Ba...</td>\n",
       "      <td>[{\"credit_id\": \"52fe4781c3a36847f81398c3\", \"de...</td>\n",
       "    </tr>\n",
       "    <tr>\n",
       "      <th>4</th>\n",
       "      <td>49529</td>\n",
       "      <td>John Carter</td>\n",
       "      <td>John Carter is a war-weary, former military ca...</td>\n",
       "      <td>[{\"id\": 28, \"name\": \"Action\"}, {\"id\": 12, \"nam...</td>\n",
       "      <td>[{\"id\": 818, \"name\": \"based on novel\"}, {\"id\":...</td>\n",
       "      <td>[{\"cast_id\": 5, \"character\": \"John Carter\", \"c...</td>\n",
       "      <td>[{\"credit_id\": \"52fe479ac3a36847f813eaa3\", \"de...</td>\n",
       "    </tr>\n",
       "  </tbody>\n",
       "</table>\n",
       "</div>"
      ],
      "text/plain": [
       "   movie_id                                     title  \\\n",
       "0     19995                                    Avatar   \n",
       "1       285  Pirates of the Caribbean: At World's End   \n",
       "2    206647                                   Spectre   \n",
       "3     49026                     The Dark Knight Rises   \n",
       "4     49529                               John Carter   \n",
       "\n",
       "                                            overview  \\\n",
       "0  In the 22nd century, a paraplegic Marine is di...   \n",
       "1  Captain Barbossa, long believed to be dead, ha...   \n",
       "2  A cryptic message from Bond’s past sends him o...   \n",
       "3  Following the death of District Attorney Harve...   \n",
       "4  John Carter is a war-weary, former military ca...   \n",
       "\n",
       "                                              genres  \\\n",
       "0  [{\"id\": 28, \"name\": \"Action\"}, {\"id\": 12, \"nam...   \n",
       "1  [{\"id\": 12, \"name\": \"Adventure\"}, {\"id\": 14, \"...   \n",
       "2  [{\"id\": 28, \"name\": \"Action\"}, {\"id\": 12, \"nam...   \n",
       "3  [{\"id\": 28, \"name\": \"Action\"}, {\"id\": 80, \"nam...   \n",
       "4  [{\"id\": 28, \"name\": \"Action\"}, {\"id\": 12, \"nam...   \n",
       "\n",
       "                                            keywords  \\\n",
       "0  [{\"id\": 1463, \"name\": \"culture clash\"}, {\"id\":...   \n",
       "1  [{\"id\": 270, \"name\": \"ocean\"}, {\"id\": 726, \"na...   \n",
       "2  [{\"id\": 470, \"name\": \"spy\"}, {\"id\": 818, \"name...   \n",
       "3  [{\"id\": 849, \"name\": \"dc comics\"}, {\"id\": 853,...   \n",
       "4  [{\"id\": 818, \"name\": \"based on novel\"}, {\"id\":...   \n",
       "\n",
       "                                                cast  \\\n",
       "0  [{\"cast_id\": 242, \"character\": \"Jake Sully\", \"...   \n",
       "1  [{\"cast_id\": 4, \"character\": \"Captain Jack Spa...   \n",
       "2  [{\"cast_id\": 1, \"character\": \"James Bond\", \"cr...   \n",
       "3  [{\"cast_id\": 2, \"character\": \"Bruce Wayne / Ba...   \n",
       "4  [{\"cast_id\": 5, \"character\": \"John Carter\", \"c...   \n",
       "\n",
       "                                                crew  \n",
       "0  [{\"credit_id\": \"52fe48009251416c750aca23\", \"de...  \n",
       "1  [{\"credit_id\": \"52fe4232c3a36847f800b579\", \"de...  \n",
       "2  [{\"credit_id\": \"54805967c3a36829b5002c41\", \"de...  \n",
       "3  [{\"credit_id\": \"52fe4781c3a36847f81398c3\", \"de...  \n",
       "4  [{\"credit_id\": \"52fe479ac3a36847f813eaa3\", \"de...  "
      ]
     },
     "execution_count": 228,
     "metadata": {},
     "output_type": "execute_result"
    }
   ],
   "source": [
    "movies = movies[['movie_id','title','overview','genres','keywords','cast','crew']]\n",
    "movies.head()"
   ]
  },
  {
   "cell_type": "code",
   "execution_count": 229,
   "id": "e522cd19-7e40-4292-9330-f95ece8a4a40",
   "metadata": {},
   "outputs": [
    {
     "data": {
      "text/plain": [
       "movie_id    0\n",
       "title       0\n",
       "overview    3\n",
       "genres      0\n",
       "keywords    0\n",
       "cast        0\n",
       "crew        0\n",
       "dtype: int64"
      ]
     },
     "execution_count": 229,
     "metadata": {},
     "output_type": "execute_result"
    }
   ],
   "source": [
    "movies.isnull().sum()     #checking for missing data"
   ]
  },
  {
   "cell_type": "code",
   "execution_count": 230,
   "id": "5872c4a2-15cc-4730-a04a-f470f67663b2",
   "metadata": {},
   "outputs": [],
   "source": [
    "movies.dropna(inplace = True)   #removing the missing data"
   ]
  },
  {
   "cell_type": "code",
   "execution_count": 231,
   "id": "3cbcb1f9-b4ce-48ca-9c21-742a97bda8b2",
   "metadata": {},
   "outputs": [
    {
     "data": {
      "text/plain": [
       "movie_id    0\n",
       "title       0\n",
       "overview    0\n",
       "genres      0\n",
       "keywords    0\n",
       "cast        0\n",
       "crew        0\n",
       "dtype: int64"
      ]
     },
     "execution_count": 231,
     "metadata": {},
     "output_type": "execute_result"
    }
   ],
   "source": [
    "movies.isnull().sum()       #after removing missing rows"
   ]
  },
  {
   "cell_type": "code",
   "execution_count": 232,
   "id": "c3650de8-10a9-4881-9ac6-8f9693fcd90b",
   "metadata": {},
   "outputs": [
    {
     "data": {
      "text/plain": [
       "np.int64(0)"
      ]
     },
     "execution_count": 232,
     "metadata": {},
     "output_type": "execute_result"
    }
   ],
   "source": [
    "movies.duplicated().sum()   #checking for duplicate rows"
   ]
  },
  {
   "cell_type": "code",
   "execution_count": 233,
   "id": "81b5b0d4-130e-461b-9702-692a760cdaaf",
   "metadata": {},
   "outputs": [
    {
     "data": {
      "text/plain": [
       "'[{\"id\": 28, \"name\": \"Action\"}, {\"id\": 12, \"name\": \"Adventure\"}, {\"id\": 14, \"name\": \"Fantasy\"}, {\"id\": 878, \"name\": \"Science Fiction\"}]'"
      ]
     },
     "execution_count": 233,
     "metadata": {},
     "output_type": "execute_result"
    }
   ],
   "source": [
    "movies.iloc[0].genres"
   ]
  },
  {
   "cell_type": "code",
   "execution_count": 234,
   "id": "1b7b995c-e583-47bc-942e-e89cea5b3db2",
   "metadata": {},
   "outputs": [],
   "source": [
    "import ast     #python module\n",
    "def converter(obj):     #function to convert object into list: from {\"id\": 28, \"name\": \"Action\"} to only 'Action'\n",
    "    L = []\n",
    "    for i in ast.literal_eval(obj):\n",
    "        L.append(i['name'])\n",
    "    return L\n"
   ]
  },
  {
   "cell_type": "code",
   "execution_count": 235,
   "id": "2a76394a-99de-4bb8-ac34-4d23dd4ff58f",
   "metadata": {},
   "outputs": [],
   "source": [
    "movies['genres'] = movies['genres'].apply(converter)"
   ]
  },
  {
   "cell_type": "code",
   "execution_count": 236,
   "id": "6945f6f4-d7dc-4355-82ab-b4a484aeabe3",
   "metadata": {},
   "outputs": [],
   "source": [
    "movies['keywords'] = movies['keywords'].apply(converter)"
   ]
  },
  {
   "cell_type": "code",
   "execution_count": 237,
   "id": "7dae767e-d9f9-4291-856e-60fed198dea2",
   "metadata": {},
   "outputs": [],
   "source": [
    "# geting only first 3 cast\n",
    "def cast_converter(obj):     \n",
    "    L = []\n",
    "    counter = 0\n",
    "    for i in ast.literal_eval(obj):\n",
    "        if counter != 3:\n",
    "            L.append(i['name'])\n",
    "            counter += 1\n",
    "        else:\n",
    "            break\n",
    "    return L"
   ]
  },
  {
   "cell_type": "code",
   "execution_count": 238,
   "id": "95f68100-2198-4f21-929f-91747da2cdd9",
   "metadata": {},
   "outputs": [],
   "source": [
    "movies['cast'] = movies['cast'].apply(cast_converter)"
   ]
  },
  {
   "cell_type": "code",
   "execution_count": 239,
   "id": "7c707f9b-0a8d-46c9-8138-c2a0de357a98",
   "metadata": {},
   "outputs": [],
   "source": [
    "def fetch_director(obj):     \n",
    "    L = []        # function to get directors\n",
    "    for i in ast.literal_eval(obj):\n",
    "        if i['job'] == 'Director':\n",
    "            L.append(i['name'])\n",
    "            break\n",
    "    return L\n"
   ]
  },
  {
   "cell_type": "code",
   "execution_count": 240,
   "id": "662d65e6-f77b-40d0-b580-54f75eb164f6",
   "metadata": {},
   "outputs": [],
   "source": [
    "movies['crew'] = movies['crew'].apply(fetch_director)"
   ]
  },
  {
   "cell_type": "code",
   "execution_count": 241,
   "id": "2923ece8-b85a-4056-aa70-c2339c9b2273",
   "metadata": {},
   "outputs": [],
   "source": [
    "movies['overview'] = movies['overview'].apply(lambda x:x.split())"
   ]
  },
  {
   "cell_type": "code",
   "execution_count": 274,
   "id": "47ec8521-85a0-4198-ad74-8a0b63cd7992",
   "metadata": {},
   "outputs": [
    {
     "data": {
      "text/html": [
       "<div>\n",
       "<style scoped>\n",
       "    .dataframe tbody tr th:only-of-type {\n",
       "        vertical-align: middle;\n",
       "    }\n",
       "\n",
       "    .dataframe tbody tr th {\n",
       "        vertical-align: top;\n",
       "    }\n",
       "\n",
       "    .dataframe thead th {\n",
       "        text-align: right;\n",
       "    }\n",
       "</style>\n",
       "<table border=\"1\" class=\"dataframe\">\n",
       "  <thead>\n",
       "    <tr style=\"text-align: right;\">\n",
       "      <th></th>\n",
       "      <th>movie_id</th>\n",
       "      <th>title</th>\n",
       "      <th>overview</th>\n",
       "      <th>genres</th>\n",
       "      <th>keywords</th>\n",
       "      <th>cast</th>\n",
       "      <th>crew</th>\n",
       "      <th>tags</th>\n",
       "    </tr>\n",
       "  </thead>\n",
       "  <tbody>\n",
       "    <tr>\n",
       "      <th>90</th>\n",
       "      <td>5255</td>\n",
       "      <td>The Polar Express</td>\n",
       "      <td>[When, a, doubting, young, boy, takes, an, ext...</td>\n",
       "      <td>[Adventure, Animation, Family, Fantasy]</td>\n",
       "      <td>[santaclaus, nerd, faith, gift, bell, beard, n...</td>\n",
       "      <td>[TomHanks, MichaelJeter, NonaGaye]</td>\n",
       "      <td>[RobertZemeckis]</td>\n",
       "      <td>[When, a, doubting, young, boy, takes, an, ext...</td>\n",
       "    </tr>\n",
       "    <tr>\n",
       "      <th>91</th>\n",
       "      <td>47933</td>\n",
       "      <td>Independence Day: Resurgence</td>\n",
       "      <td>[We, always, knew, they, were, coming, back., ...</td>\n",
       "      <td>[Action, Adventure, ScienceFiction]</td>\n",
       "      <td>[alternatehistory, alieninvasion]</td>\n",
       "      <td>[LiamHemsworth, JeffGoldblum, BillPullman]</td>\n",
       "      <td>[RolandEmmerich]</td>\n",
       "      <td>[We, always, knew, they, were, coming, back., ...</td>\n",
       "    </tr>\n",
       "    <tr>\n",
       "      <th>92</th>\n",
       "      <td>10191</td>\n",
       "      <td>How to Train Your Dragon</td>\n",
       "      <td>[As, the, son, of, a, Viking, leader, on, the,...</td>\n",
       "      <td>[Fantasy, Adventure, Animation, Family]</td>\n",
       "      <td>[flying, blacksmith, arena, island, night, shi...</td>\n",
       "      <td>[JayBaruchel, GerardButler, CraigFerguson]</td>\n",
       "      <td>[ChrisSanders]</td>\n",
       "      <td>[As, the, son, of, a, Viking, leader, on, the,...</td>\n",
       "    </tr>\n",
       "    <tr>\n",
       "      <th>93</th>\n",
       "      <td>296</td>\n",
       "      <td>Terminator 3: Rise of the Machines</td>\n",
       "      <td>[It's, been, 10, years, since, John, Connor, s...</td>\n",
       "      <td>[Action, Thriller, ScienceFiction]</td>\n",
       "      <td>[savingtheworld, artificialintelligence, manvs...</td>\n",
       "      <td>[ArnoldSchwarzenegger, NickStahl, ClaireDanes]</td>\n",
       "      <td>[JonathanMostow]</td>\n",
       "      <td>[It's, been, 10, years, since, John, Connor, s...</td>\n",
       "    </tr>\n",
       "    <tr>\n",
       "      <th>94</th>\n",
       "      <td>118340</td>\n",
       "      <td>Guardians of the Galaxy</td>\n",
       "      <td>[Light, years, from, Earth,, 26, years, after,...</td>\n",
       "      <td>[Action, ScienceFiction, Adventure]</td>\n",
       "      <td>[marvelcomic, spaceship, space, outerspace, or...</td>\n",
       "      <td>[ChrisPratt, ZoeSaldana, DaveBautista]</td>\n",
       "      <td>[JamesGunn]</td>\n",
       "      <td>[Light, years, from, Earth,, 26, years, after,...</td>\n",
       "    </tr>\n",
       "    <tr>\n",
       "      <th>95</th>\n",
       "      <td>157336</td>\n",
       "      <td>Interstellar</td>\n",
       "      <td>[Interstellar, chronicles, the, adventures, of...</td>\n",
       "      <td>[Adventure, Drama, ScienceFiction]</td>\n",
       "      <td>[savingtheworld, artificialintelligence, fathe...</td>\n",
       "      <td>[MatthewMcConaughey, JessicaChastain, AnneHath...</td>\n",
       "      <td>[ChristopherNolan]</td>\n",
       "      <td>[Interstellar, chronicles, the, adventures, of...</td>\n",
       "    </tr>\n",
       "    <tr>\n",
       "      <th>96</th>\n",
       "      <td>27205</td>\n",
       "      <td>Inception</td>\n",
       "      <td>[Cobb,, a, skilled, thief, who, commits, corpo...</td>\n",
       "      <td>[Action, Thriller, ScienceFiction, Mystery, Ad...</td>\n",
       "      <td>[lossoflover, dream, kidnapping, sleep, subcon...</td>\n",
       "      <td>[LeonardoDiCaprio, JosephGordon-Levitt, EllenP...</td>\n",
       "      <td>[ChristopherNolan]</td>\n",
       "      <td>[Cobb,, a, skilled, thief, who, commits, corpo...</td>\n",
       "    </tr>\n",
       "    <tr>\n",
       "      <th>97</th>\n",
       "      <td>315011</td>\n",
       "      <td>Shin Godzilla</td>\n",
       "      <td>[From, the, mind, behind, Evangelion, comes, a...</td>\n",
       "      <td>[Action, Adventure, Drama, Horror, ScienceFict...</td>\n",
       "      <td>[monster, godzilla, giantmonster, destruction,...</td>\n",
       "      <td>[HirokiHasegawa, YutakaTakenouchi, SatomiIshih...</td>\n",
       "      <td>[HideakiAnno]</td>\n",
       "      <td>[From, the, mind, behind, Evangelion, comes, a...</td>\n",
       "    </tr>\n",
       "    <tr>\n",
       "      <th>98</th>\n",
       "      <td>49051</td>\n",
       "      <td>The Hobbit: An Unexpected Journey</td>\n",
       "      <td>[Bilbo, Baggins,, a, hobbit, enjoying, his, qu...</td>\n",
       "      <td>[Adventure, Fantasy, Action]</td>\n",
       "      <td>[riddle, elves, dwarves, orcs, middle-earth(to...</td>\n",
       "      <td>[IanMcKellen, MartinFreeman, RichardArmitage]</td>\n",
       "      <td>[PeterJackson]</td>\n",
       "      <td>[Bilbo, Baggins,, a, hobbit, enjoying, his, qu...</td>\n",
       "    </tr>\n",
       "    <tr>\n",
       "      <th>99</th>\n",
       "      <td>9799</td>\n",
       "      <td>The Fast and the Furious</td>\n",
       "      <td>[Domenic, Toretto, is, a, Los, Angeles, street...</td>\n",
       "      <td>[Action, Crime, Thriller]</td>\n",
       "      <td>[streetgang, carrace, undercover, auto-tuning,...</td>\n",
       "      <td>[PaulWalker, VinDiesel, MichelleRodriguez]</td>\n",
       "      <td>[RobCohen]</td>\n",
       "      <td>[Domenic, Toretto, is, a, Los, Angeles, street...</td>\n",
       "    </tr>\n",
       "  </tbody>\n",
       "</table>\n",
       "</div>"
      ],
      "text/plain": [
       "    movie_id                               title  \\\n",
       "90      5255                   The Polar Express   \n",
       "91     47933        Independence Day: Resurgence   \n",
       "92     10191            How to Train Your Dragon   \n",
       "93       296  Terminator 3: Rise of the Machines   \n",
       "94    118340             Guardians of the Galaxy   \n",
       "95    157336                        Interstellar   \n",
       "96     27205                           Inception   \n",
       "97    315011                       Shin Godzilla   \n",
       "98     49051   The Hobbit: An Unexpected Journey   \n",
       "99      9799            The Fast and the Furious   \n",
       "\n",
       "                                             overview  \\\n",
       "90  [When, a, doubting, young, boy, takes, an, ext...   \n",
       "91  [We, always, knew, they, were, coming, back., ...   \n",
       "92  [As, the, son, of, a, Viking, leader, on, the,...   \n",
       "93  [It's, been, 10, years, since, John, Connor, s...   \n",
       "94  [Light, years, from, Earth,, 26, years, after,...   \n",
       "95  [Interstellar, chronicles, the, adventures, of...   \n",
       "96  [Cobb,, a, skilled, thief, who, commits, corpo...   \n",
       "97  [From, the, mind, behind, Evangelion, comes, a...   \n",
       "98  [Bilbo, Baggins,, a, hobbit, enjoying, his, qu...   \n",
       "99  [Domenic, Toretto, is, a, Los, Angeles, street...   \n",
       "\n",
       "                                               genres  \\\n",
       "90            [Adventure, Animation, Family, Fantasy]   \n",
       "91                [Action, Adventure, ScienceFiction]   \n",
       "92            [Fantasy, Adventure, Animation, Family]   \n",
       "93                 [Action, Thriller, ScienceFiction]   \n",
       "94                [Action, ScienceFiction, Adventure]   \n",
       "95                 [Adventure, Drama, ScienceFiction]   \n",
       "96  [Action, Thriller, ScienceFiction, Mystery, Ad...   \n",
       "97  [Action, Adventure, Drama, Horror, ScienceFict...   \n",
       "98                       [Adventure, Fantasy, Action]   \n",
       "99                          [Action, Crime, Thriller]   \n",
       "\n",
       "                                             keywords  \\\n",
       "90  [santaclaus, nerd, faith, gift, bell, beard, n...   \n",
       "91                  [alternatehistory, alieninvasion]   \n",
       "92  [flying, blacksmith, arena, island, night, shi...   \n",
       "93  [savingtheworld, artificialintelligence, manvs...   \n",
       "94  [marvelcomic, spaceship, space, outerspace, or...   \n",
       "95  [savingtheworld, artificialintelligence, fathe...   \n",
       "96  [lossoflover, dream, kidnapping, sleep, subcon...   \n",
       "97  [monster, godzilla, giantmonster, destruction,...   \n",
       "98  [riddle, elves, dwarves, orcs, middle-earth(to...   \n",
       "99  [streetgang, carrace, undercover, auto-tuning,...   \n",
       "\n",
       "                                                 cast                crew  \\\n",
       "90                 [TomHanks, MichaelJeter, NonaGaye]    [RobertZemeckis]   \n",
       "91         [LiamHemsworth, JeffGoldblum, BillPullman]    [RolandEmmerich]   \n",
       "92         [JayBaruchel, GerardButler, CraigFerguson]      [ChrisSanders]   \n",
       "93     [ArnoldSchwarzenegger, NickStahl, ClaireDanes]    [JonathanMostow]   \n",
       "94             [ChrisPratt, ZoeSaldana, DaveBautista]         [JamesGunn]   \n",
       "95  [MatthewMcConaughey, JessicaChastain, AnneHath...  [ChristopherNolan]   \n",
       "96  [LeonardoDiCaprio, JosephGordon-Levitt, EllenP...  [ChristopherNolan]   \n",
       "97  [HirokiHasegawa, YutakaTakenouchi, SatomiIshih...       [HideakiAnno]   \n",
       "98      [IanMcKellen, MartinFreeman, RichardArmitage]      [PeterJackson]   \n",
       "99         [PaulWalker, VinDiesel, MichelleRodriguez]          [RobCohen]   \n",
       "\n",
       "                                                 tags  \n",
       "90  [When, a, doubting, young, boy, takes, an, ext...  \n",
       "91  [We, always, knew, they, were, coming, back., ...  \n",
       "92  [As, the, son, of, a, Viking, leader, on, the,...  \n",
       "93  [It's, been, 10, years, since, John, Connor, s...  \n",
       "94  [Light, years, from, Earth,, 26, years, after,...  \n",
       "95  [Interstellar, chronicles, the, adventures, of...  \n",
       "96  [Cobb,, a, skilled, thief, who, commits, corpo...  \n",
       "97  [From, the, mind, behind, Evangelion, comes, a...  \n",
       "98  [Bilbo, Baggins,, a, hobbit, enjoying, his, qu...  \n",
       "99  [Domenic, Toretto, is, a, Los, Angeles, street...  "
      ]
     },
     "execution_count": 274,
     "metadata": {},
     "output_type": "execute_result"
    }
   ],
   "source": [
    "# movies.head()\n",
    "movies[90:100]"
   ]
  },
  {
   "cell_type": "code",
   "execution_count": 243,
   "id": "b581d2a6-b65c-469a-a9ac-c06d61363e9a",
   "metadata": {},
   "outputs": [],
   "source": [
    "# removing all spaces eg: James Cameron -> JamesCameron\n",
    "movies['genres'] = movies['genres'].apply(lambda x: [i.replace(\" \",\"\") for i in x])\n",
    "movies['keywords'] = movies['keywords'].apply(lambda x: [i.replace(\" \",\"\") for i in x])\n",
    "movies['crew'] = movies['crew'].apply(lambda x: [i.replace(\" \",\"\") for i in x])\n",
    "movies['cast'] = movies['cast'].apply(lambda x: [i.replace(\" \",\"\") for i in x])"
   ]
  },
  {
   "cell_type": "code",
   "execution_count": 244,
   "id": "dd4a7713-76f2-4a29-b807-67f522608a51",
   "metadata": {},
   "outputs": [
    {
     "data": {
      "text/html": [
       "<div>\n",
       "<style scoped>\n",
       "    .dataframe tbody tr th:only-of-type {\n",
       "        vertical-align: middle;\n",
       "    }\n",
       "\n",
       "    .dataframe tbody tr th {\n",
       "        vertical-align: top;\n",
       "    }\n",
       "\n",
       "    .dataframe thead th {\n",
       "        text-align: right;\n",
       "    }\n",
       "</style>\n",
       "<table border=\"1\" class=\"dataframe\">\n",
       "  <thead>\n",
       "    <tr style=\"text-align: right;\">\n",
       "      <th></th>\n",
       "      <th>movie_id</th>\n",
       "      <th>title</th>\n",
       "      <th>overview</th>\n",
       "      <th>genres</th>\n",
       "      <th>keywords</th>\n",
       "      <th>cast</th>\n",
       "      <th>crew</th>\n",
       "    </tr>\n",
       "  </thead>\n",
       "  <tbody>\n",
       "    <tr>\n",
       "      <th>0</th>\n",
       "      <td>19995</td>\n",
       "      <td>Avatar</td>\n",
       "      <td>[In, the, 22nd, century,, a, paraplegic, Marin...</td>\n",
       "      <td>[Action, Adventure, Fantasy, ScienceFiction]</td>\n",
       "      <td>[cultureclash, future, spacewar, spacecolony, ...</td>\n",
       "      <td>[SamWorthington, ZoeSaldana, SigourneyWeaver]</td>\n",
       "      <td>[JamesCameron]</td>\n",
       "    </tr>\n",
       "    <tr>\n",
       "      <th>1</th>\n",
       "      <td>285</td>\n",
       "      <td>Pirates of the Caribbean: At World's End</td>\n",
       "      <td>[Captain, Barbossa,, long, believed, to, be, d...</td>\n",
       "      <td>[Adventure, Fantasy, Action]</td>\n",
       "      <td>[ocean, drugabuse, exoticisland, eastindiatrad...</td>\n",
       "      <td>[JohnnyDepp, OrlandoBloom, KeiraKnightley]</td>\n",
       "      <td>[GoreVerbinski]</td>\n",
       "    </tr>\n",
       "    <tr>\n",
       "      <th>2</th>\n",
       "      <td>206647</td>\n",
       "      <td>Spectre</td>\n",
       "      <td>[A, cryptic, message, from, Bond’s, past, send...</td>\n",
       "      <td>[Action, Adventure, Crime]</td>\n",
       "      <td>[spy, basedonnovel, secretagent, sequel, mi6, ...</td>\n",
       "      <td>[DanielCraig, ChristophWaltz, LéaSeydoux]</td>\n",
       "      <td>[SamMendes]</td>\n",
       "    </tr>\n",
       "    <tr>\n",
       "      <th>3</th>\n",
       "      <td>49026</td>\n",
       "      <td>The Dark Knight Rises</td>\n",
       "      <td>[Following, the, death, of, District, Attorney...</td>\n",
       "      <td>[Action, Crime, Drama, Thriller]</td>\n",
       "      <td>[dccomics, crimefighter, terrorist, secretiden...</td>\n",
       "      <td>[ChristianBale, MichaelCaine, GaryOldman]</td>\n",
       "      <td>[ChristopherNolan]</td>\n",
       "    </tr>\n",
       "    <tr>\n",
       "      <th>4</th>\n",
       "      <td>49529</td>\n",
       "      <td>John Carter</td>\n",
       "      <td>[John, Carter, is, a, war-weary,, former, mili...</td>\n",
       "      <td>[Action, Adventure, ScienceFiction]</td>\n",
       "      <td>[basedonnovel, mars, medallion, spacetravel, p...</td>\n",
       "      <td>[TaylorKitsch, LynnCollins, SamanthaMorton]</td>\n",
       "      <td>[AndrewStanton]</td>\n",
       "    </tr>\n",
       "  </tbody>\n",
       "</table>\n",
       "</div>"
      ],
      "text/plain": [
       "   movie_id                                     title  \\\n",
       "0     19995                                    Avatar   \n",
       "1       285  Pirates of the Caribbean: At World's End   \n",
       "2    206647                                   Spectre   \n",
       "3     49026                     The Dark Knight Rises   \n",
       "4     49529                               John Carter   \n",
       "\n",
       "                                            overview  \\\n",
       "0  [In, the, 22nd, century,, a, paraplegic, Marin...   \n",
       "1  [Captain, Barbossa,, long, believed, to, be, d...   \n",
       "2  [A, cryptic, message, from, Bond’s, past, send...   \n",
       "3  [Following, the, death, of, District, Attorney...   \n",
       "4  [John, Carter, is, a, war-weary,, former, mili...   \n",
       "\n",
       "                                         genres  \\\n",
       "0  [Action, Adventure, Fantasy, ScienceFiction]   \n",
       "1                  [Adventure, Fantasy, Action]   \n",
       "2                    [Action, Adventure, Crime]   \n",
       "3              [Action, Crime, Drama, Thriller]   \n",
       "4           [Action, Adventure, ScienceFiction]   \n",
       "\n",
       "                                            keywords  \\\n",
       "0  [cultureclash, future, spacewar, spacecolony, ...   \n",
       "1  [ocean, drugabuse, exoticisland, eastindiatrad...   \n",
       "2  [spy, basedonnovel, secretagent, sequel, mi6, ...   \n",
       "3  [dccomics, crimefighter, terrorist, secretiden...   \n",
       "4  [basedonnovel, mars, medallion, spacetravel, p...   \n",
       "\n",
       "                                            cast                crew  \n",
       "0  [SamWorthington, ZoeSaldana, SigourneyWeaver]      [JamesCameron]  \n",
       "1     [JohnnyDepp, OrlandoBloom, KeiraKnightley]     [GoreVerbinski]  \n",
       "2      [DanielCraig, ChristophWaltz, LéaSeydoux]         [SamMendes]  \n",
       "3      [ChristianBale, MichaelCaine, GaryOldman]  [ChristopherNolan]  \n",
       "4    [TaylorKitsch, LynnCollins, SamanthaMorton]     [AndrewStanton]  "
      ]
     },
     "execution_count": 244,
     "metadata": {},
     "output_type": "execute_result"
    }
   ],
   "source": [
    "movies.head()"
   ]
  },
  {
   "cell_type": "code",
   "execution_count": 245,
   "id": "f52883e3-3aa5-4830-b7e5-bb2442988a78",
   "metadata": {},
   "outputs": [],
   "source": [
    "movies['tags'] = movies['overview'] + movies['genres'] + movies['keywords'] + movies['cast'] + movies['crew']"
   ]
  },
  {
   "cell_type": "code",
   "execution_count": 246,
   "id": "ec3b91c7-9527-4fc2-9a1e-3da5f0c05267",
   "metadata": {},
   "outputs": [],
   "source": [
    "new_df = movies[['movie_id','title','tags']]"
   ]
  },
  {
   "cell_type": "code",
   "execution_count": 247,
   "id": "3a3c4b19-d347-4171-aa5a-14c55cb80530",
   "metadata": {},
   "outputs": [
    {
     "data": {
      "text/html": [
       "<div>\n",
       "<style scoped>\n",
       "    .dataframe tbody tr th:only-of-type {\n",
       "        vertical-align: middle;\n",
       "    }\n",
       "\n",
       "    .dataframe tbody tr th {\n",
       "        vertical-align: top;\n",
       "    }\n",
       "\n",
       "    .dataframe thead th {\n",
       "        text-align: right;\n",
       "    }\n",
       "</style>\n",
       "<table border=\"1\" class=\"dataframe\">\n",
       "  <thead>\n",
       "    <tr style=\"text-align: right;\">\n",
       "      <th></th>\n",
       "      <th>movie_id</th>\n",
       "      <th>title</th>\n",
       "      <th>tags</th>\n",
       "    </tr>\n",
       "  </thead>\n",
       "  <tbody>\n",
       "    <tr>\n",
       "      <th>0</th>\n",
       "      <td>19995</td>\n",
       "      <td>Avatar</td>\n",
       "      <td>[In, the, 22nd, century,, a, paraplegic, Marin...</td>\n",
       "    </tr>\n",
       "    <tr>\n",
       "      <th>1</th>\n",
       "      <td>285</td>\n",
       "      <td>Pirates of the Caribbean: At World's End</td>\n",
       "      <td>[Captain, Barbossa,, long, believed, to, be, d...</td>\n",
       "    </tr>\n",
       "    <tr>\n",
       "      <th>2</th>\n",
       "      <td>206647</td>\n",
       "      <td>Spectre</td>\n",
       "      <td>[A, cryptic, message, from, Bond’s, past, send...</td>\n",
       "    </tr>\n",
       "    <tr>\n",
       "      <th>3</th>\n",
       "      <td>49026</td>\n",
       "      <td>The Dark Knight Rises</td>\n",
       "      <td>[Following, the, death, of, District, Attorney...</td>\n",
       "    </tr>\n",
       "    <tr>\n",
       "      <th>4</th>\n",
       "      <td>49529</td>\n",
       "      <td>John Carter</td>\n",
       "      <td>[John, Carter, is, a, war-weary,, former, mili...</td>\n",
       "    </tr>\n",
       "  </tbody>\n",
       "</table>\n",
       "</div>"
      ],
      "text/plain": [
       "   movie_id                                     title  \\\n",
       "0     19995                                    Avatar   \n",
       "1       285  Pirates of the Caribbean: At World's End   \n",
       "2    206647                                   Spectre   \n",
       "3     49026                     The Dark Knight Rises   \n",
       "4     49529                               John Carter   \n",
       "\n",
       "                                                tags  \n",
       "0  [In, the, 22nd, century,, a, paraplegic, Marin...  \n",
       "1  [Captain, Barbossa,, long, believed, to, be, d...  \n",
       "2  [A, cryptic, message, from, Bond’s, past, send...  \n",
       "3  [Following, the, death, of, District, Attorney...  \n",
       "4  [John, Carter, is, a, war-weary,, former, mili...  "
      ]
     },
     "execution_count": 247,
     "metadata": {},
     "output_type": "execute_result"
    }
   ],
   "source": [
    "new_df.head()"
   ]
  },
  {
   "cell_type": "code",
   "execution_count": 248,
   "id": "cdfe0e48-df24-4b1f-ae9d-1016e3c0528e",
   "metadata": {},
   "outputs": [
    {
     "name": "stderr",
     "output_type": "stream",
     "text": [
      "C:\\Users\\Ismail Shaikh\\AppData\\Local\\Temp\\ipykernel_956\\1824047427.py:1: SettingWithCopyWarning: \n",
      "A value is trying to be set on a copy of a slice from a DataFrame.\n",
      "Try using .loc[row_indexer,col_indexer] = value instead\n",
      "\n",
      "See the caveats in the documentation: https://pandas.pydata.org/pandas-docs/stable/user_guide/indexing.html#returning-a-view-versus-a-copy\n",
      "  new_df['tags'] = new_df['tags'].apply(lambda x: \" \".join(x))\n"
     ]
    }
   ],
   "source": [
    "new_df['tags'] = new_df['tags'].apply(lambda x: \" \".join(x))"
   ]
  },
  {
   "cell_type": "code",
   "execution_count": 249,
   "id": "a5dc01e8-8546-4665-b1b5-6f12aecea104",
   "metadata": {},
   "outputs": [
    {
     "data": {
      "text/html": [
       "<div>\n",
       "<style scoped>\n",
       "    .dataframe tbody tr th:only-of-type {\n",
       "        vertical-align: middle;\n",
       "    }\n",
       "\n",
       "    .dataframe tbody tr th {\n",
       "        vertical-align: top;\n",
       "    }\n",
       "\n",
       "    .dataframe thead th {\n",
       "        text-align: right;\n",
       "    }\n",
       "</style>\n",
       "<table border=\"1\" class=\"dataframe\">\n",
       "  <thead>\n",
       "    <tr style=\"text-align: right;\">\n",
       "      <th></th>\n",
       "      <th>movie_id</th>\n",
       "      <th>title</th>\n",
       "      <th>tags</th>\n",
       "    </tr>\n",
       "  </thead>\n",
       "  <tbody>\n",
       "    <tr>\n",
       "      <th>0</th>\n",
       "      <td>19995</td>\n",
       "      <td>Avatar</td>\n",
       "      <td>In the 22nd century, a paraplegic Marine is di...</td>\n",
       "    </tr>\n",
       "    <tr>\n",
       "      <th>1</th>\n",
       "      <td>285</td>\n",
       "      <td>Pirates of the Caribbean: At World's End</td>\n",
       "      <td>Captain Barbossa, long believed to be dead, ha...</td>\n",
       "    </tr>\n",
       "    <tr>\n",
       "      <th>2</th>\n",
       "      <td>206647</td>\n",
       "      <td>Spectre</td>\n",
       "      <td>A cryptic message from Bond’s past sends him o...</td>\n",
       "    </tr>\n",
       "    <tr>\n",
       "      <th>3</th>\n",
       "      <td>49026</td>\n",
       "      <td>The Dark Knight Rises</td>\n",
       "      <td>Following the death of District Attorney Harve...</td>\n",
       "    </tr>\n",
       "    <tr>\n",
       "      <th>4</th>\n",
       "      <td>49529</td>\n",
       "      <td>John Carter</td>\n",
       "      <td>John Carter is a war-weary, former military ca...</td>\n",
       "    </tr>\n",
       "  </tbody>\n",
       "</table>\n",
       "</div>"
      ],
      "text/plain": [
       "   movie_id                                     title  \\\n",
       "0     19995                                    Avatar   \n",
       "1       285  Pirates of the Caribbean: At World's End   \n",
       "2    206647                                   Spectre   \n",
       "3     49026                     The Dark Knight Rises   \n",
       "4     49529                               John Carter   \n",
       "\n",
       "                                                tags  \n",
       "0  In the 22nd century, a paraplegic Marine is di...  \n",
       "1  Captain Barbossa, long believed to be dead, ha...  \n",
       "2  A cryptic message from Bond’s past sends him o...  \n",
       "3  Following the death of District Attorney Harve...  \n",
       "4  John Carter is a war-weary, former military ca...  "
      ]
     },
     "execution_count": 249,
     "metadata": {},
     "output_type": "execute_result"
    }
   ],
   "source": [
    "new_df.head()"
   ]
  },
  {
   "cell_type": "code",
   "execution_count": 250,
   "id": "7a8b874c-4831-43f1-9907-10377dc4b285",
   "metadata": {},
   "outputs": [],
   "source": [
    "import nltk     #natural language toolkit"
   ]
  },
  {
   "cell_type": "code",
   "execution_count": 251,
   "id": "4bf53472-c97a-48a3-b60e-84723c8a8ca0",
   "metadata": {},
   "outputs": [],
   "source": [
    "from nltk.stem import PorterStemmer\n",
    "ps = PorterStemmer()"
   ]
  },
  {
   "cell_type": "code",
   "execution_count": 252,
   "id": "30994898-b35d-4da1-ae82-96f81093befc",
   "metadata": {},
   "outputs": [],
   "source": [
    "# function to remove words which doesnot give a meaning to sentences eg: on, is\n",
    "def stem(text):\n",
    "    y = []\n",
    "\n",
    "    for i in text.split():\n",
    "        y.append(ps.stem(i))\n",
    "    return \" \".join(y)"
   ]
  },
  {
   "cell_type": "code",
   "execution_count": 253,
   "id": "34106c48-999d-4e30-b73b-a2c64b127cf4",
   "metadata": {},
   "outputs": [
    {
     "name": "stderr",
     "output_type": "stream",
     "text": [
      "C:\\Users\\Ismail Shaikh\\AppData\\Local\\Temp\\ipykernel_956\\3213734980.py:1: SettingWithCopyWarning: \n",
      "A value is trying to be set on a copy of a slice from a DataFrame.\n",
      "Try using .loc[row_indexer,col_indexer] = value instead\n",
      "\n",
      "See the caveats in the documentation: https://pandas.pydata.org/pandas-docs/stable/user_guide/indexing.html#returning-a-view-versus-a-copy\n",
      "  new_df['tags'] = new_df['tags'].apply(stem)\n"
     ]
    }
   ],
   "source": [
    "new_df['tags'] = new_df['tags'].apply(stem)"
   ]
  },
  {
   "cell_type": "code",
   "execution_count": 254,
   "id": "58bd9adf-8d65-4e85-86b9-7226a2907e5b",
   "metadata": {
    "scrolled": true
   },
   "outputs": [
    {
     "data": {
      "text/plain": [
       "\"captain barbossa, long believ to be dead, ha come back to life and is head to the edg of the earth with will turner and elizabeth swann. but noth is quit as it seems. adventur fantasi action ocean drugabus exoticisland eastindiatradingcompani loveofone'slif traitor shipwreck strongwoman ship allianc calypso afterlif fighter pirat swashbuckl aftercreditssting johnnydepp orlandobloom keiraknightley goreverbinski\""
      ]
     },
     "execution_count": 254,
     "metadata": {},
     "output_type": "execute_result"
    }
   ],
   "source": [
    "new_df['tags'][1]"
   ]
  },
  {
   "cell_type": "code",
   "execution_count": 255,
   "id": "1f78b6f1-35fc-4532-829e-b659f3773be9",
   "metadata": {},
   "outputs": [
    {
     "name": "stderr",
     "output_type": "stream",
     "text": [
      "C:\\Users\\Ismail Shaikh\\AppData\\Local\\Temp\\ipykernel_956\\1380776331.py:1: SettingWithCopyWarning: \n",
      "A value is trying to be set on a copy of a slice from a DataFrame.\n",
      "Try using .loc[row_indexer,col_indexer] = value instead\n",
      "\n",
      "See the caveats in the documentation: https://pandas.pydata.org/pandas-docs/stable/user_guide/indexing.html#returning-a-view-versus-a-copy\n",
      "  new_df['tags'] = new_df['tags'].apply(lambda x: x.lower())\n"
     ]
    }
   ],
   "source": [
    "new_df['tags'] = new_df['tags'].apply(lambda x: x.lower())"
   ]
  },
  {
   "cell_type": "code",
   "execution_count": 256,
   "id": "1644b773-65b5-46b8-b416-222274c929ca",
   "metadata": {},
   "outputs": [
    {
     "data": {
      "text/html": [
       "<div>\n",
       "<style scoped>\n",
       "    .dataframe tbody tr th:only-of-type {\n",
       "        vertical-align: middle;\n",
       "    }\n",
       "\n",
       "    .dataframe tbody tr th {\n",
       "        vertical-align: top;\n",
       "    }\n",
       "\n",
       "    .dataframe thead th {\n",
       "        text-align: right;\n",
       "    }\n",
       "</style>\n",
       "<table border=\"1\" class=\"dataframe\">\n",
       "  <thead>\n",
       "    <tr style=\"text-align: right;\">\n",
       "      <th></th>\n",
       "      <th>movie_id</th>\n",
       "      <th>title</th>\n",
       "      <th>tags</th>\n",
       "    </tr>\n",
       "  </thead>\n",
       "  <tbody>\n",
       "    <tr>\n",
       "      <th>20</th>\n",
       "      <td>1930</td>\n",
       "      <td>The Amazing Spider-Man</td>\n",
       "      <td>peter parker is an outcast high schooler aband...</td>\n",
       "    </tr>\n",
       "    <tr>\n",
       "      <th>21</th>\n",
       "      <td>20662</td>\n",
       "      <td>Robin Hood</td>\n",
       "      <td>when soldier robin happen upon the die robert ...</td>\n",
       "    </tr>\n",
       "    <tr>\n",
       "      <th>22</th>\n",
       "      <td>57158</td>\n",
       "      <td>The Hobbit: The Desolation of Smaug</td>\n",
       "      <td>the dwarves, bilbo and gandalf have success es...</td>\n",
       "    </tr>\n",
       "    <tr>\n",
       "      <th>23</th>\n",
       "      <td>2268</td>\n",
       "      <td>The Golden Compass</td>\n",
       "      <td>after overhear a shock secret, precoci orphan ...</td>\n",
       "    </tr>\n",
       "    <tr>\n",
       "      <th>24</th>\n",
       "      <td>254</td>\n",
       "      <td>King Kong</td>\n",
       "      <td>in 1933 new york, an overli ambiti movi produc...</td>\n",
       "    </tr>\n",
       "    <tr>\n",
       "      <th>25</th>\n",
       "      <td>597</td>\n",
       "      <td>Titanic</td>\n",
       "      <td>84 year later, a 101-year-old woman name rose ...</td>\n",
       "    </tr>\n",
       "    <tr>\n",
       "      <th>26</th>\n",
       "      <td>271110</td>\n",
       "      <td>Captain America: Civil War</td>\n",
       "      <td>follow the event of age of ultron, the collect...</td>\n",
       "    </tr>\n",
       "    <tr>\n",
       "      <th>27</th>\n",
       "      <td>44833</td>\n",
       "      <td>Battleship</td>\n",
       "      <td>when mankind beam a radio signal into space, a...</td>\n",
       "    </tr>\n",
       "    <tr>\n",
       "      <th>28</th>\n",
       "      <td>135397</td>\n",
       "      <td>Jurassic World</td>\n",
       "      <td>twenty-two year after the event of jurass park...</td>\n",
       "    </tr>\n",
       "    <tr>\n",
       "      <th>29</th>\n",
       "      <td>37724</td>\n",
       "      <td>Skyfall</td>\n",
       "      <td>when bond' latest assign goe grave wrong and a...</td>\n",
       "    </tr>\n",
       "  </tbody>\n",
       "</table>\n",
       "</div>"
      ],
      "text/plain": [
       "    movie_id                                title  \\\n",
       "20      1930               The Amazing Spider-Man   \n",
       "21     20662                           Robin Hood   \n",
       "22     57158  The Hobbit: The Desolation of Smaug   \n",
       "23      2268                   The Golden Compass   \n",
       "24       254                            King Kong   \n",
       "25       597                              Titanic   \n",
       "26    271110           Captain America: Civil War   \n",
       "27     44833                           Battleship   \n",
       "28    135397                       Jurassic World   \n",
       "29     37724                              Skyfall   \n",
       "\n",
       "                                                 tags  \n",
       "20  peter parker is an outcast high schooler aband...  \n",
       "21  when soldier robin happen upon the die robert ...  \n",
       "22  the dwarves, bilbo and gandalf have success es...  \n",
       "23  after overhear a shock secret, precoci orphan ...  \n",
       "24  in 1933 new york, an overli ambiti movi produc...  \n",
       "25  84 year later, a 101-year-old woman name rose ...  \n",
       "26  follow the event of age of ultron, the collect...  \n",
       "27  when mankind beam a radio signal into space, a...  \n",
       "28  twenty-two year after the event of jurass park...  \n",
       "29  when bond' latest assign goe grave wrong and a...  "
      ]
     },
     "execution_count": 256,
     "metadata": {},
     "output_type": "execute_result"
    }
   ],
   "source": [
    "new_df.iloc[20:30]"
   ]
  },
  {
   "cell_type": "code",
   "execution_count": 257,
   "id": "e4d9dab8-32ab-4b65-90d7-4e2dbd6355a1",
   "metadata": {},
   "outputs": [],
   "source": [
    "from sklearn.feature_extraction.text import CountVectorizer\n",
    "cv = CountVectorizer(max_features = 5000, stop_words = 'english')"
   ]
  },
  {
   "cell_type": "code",
   "execution_count": 258,
   "id": "65f09411-d071-434a-88f2-ac1bf998d69b",
   "metadata": {},
   "outputs": [],
   "source": [
    "vectors = cv.fit_transform(new_df['tags']).toarray()"
   ]
  },
  {
   "cell_type": "code",
   "execution_count": 259,
   "id": "2eeffb12-5594-4818-bac5-d1560697400d",
   "metadata": {},
   "outputs": [
    {
     "data": {
      "text/plain": [
       "array([[0, 0, 0, ..., 0, 0, 0],\n",
       "       [0, 0, 0, ..., 0, 0, 0],\n",
       "       [0, 0, 0, ..., 0, 0, 0],\n",
       "       ...,\n",
       "       [0, 0, 0, ..., 0, 0, 0],\n",
       "       [0, 0, 0, ..., 0, 0, 0],\n",
       "       [0, 0, 0, ..., 0, 0, 0]])"
      ]
     },
     "execution_count": 259,
     "metadata": {},
     "output_type": "execute_result"
    }
   ],
   "source": [
    "vectors"
   ]
  },
  {
   "cell_type": "code",
   "execution_count": 260,
   "id": "4a4ea46c-8669-48a7-beb6-5fa95bc24de5",
   "metadata": {},
   "outputs": [
    {
     "data": {
      "text/plain": [
       "array(['000', '007', '10', ..., 'zone', 'zoo', 'zooeydeschanel'],\n",
       "      dtype=object)"
      ]
     },
     "execution_count": 260,
     "metadata": {},
     "output_type": "execute_result"
    }
   ],
   "source": [
    "cv.get_feature_names_out()"
   ]
  },
  {
   "cell_type": "code",
   "execution_count": 261,
   "id": "9e9be8c5-5bc2-4756-b076-e7097822013c",
   "metadata": {},
   "outputs": [],
   "source": [
    "from sklearn.metrics.pairwise import cosine_similarity"
   ]
  },
  {
   "cell_type": "code",
   "execution_count": 262,
   "id": "55241779-f59d-4c90-9981-5565e137b8df",
   "metadata": {},
   "outputs": [],
   "source": [
    "similarity = cosine_similarity(vectors)"
   ]
  },
  {
   "cell_type": "code",
   "execution_count": 263,
   "id": "97c93a4d-1353-4ac1-b819-3c2621f79390",
   "metadata": {},
   "outputs": [
    {
     "data": {
      "text/plain": [
       "array([1.        , 0.08346223, 0.0860309 , ..., 0.04499213, 0.        ,\n",
       "       0.        ])"
      ]
     },
     "execution_count": 263,
     "metadata": {},
     "output_type": "execute_result"
    }
   ],
   "source": [
    "similarity[0]"
   ]
  },
  {
   "cell_type": "code",
   "execution_count": 264,
   "id": "a55191a8-0716-4151-9280-94eddd625970",
   "metadata": {},
   "outputs": [
    {
     "data": {
      "text/plain": [
       "[(1214, np.float64(0.28676966733820225)),\n",
       " (2405, np.float64(0.26901379342448517)),\n",
       " (3728, np.float64(0.2605130246476754)),\n",
       " (507, np.float64(0.255608593705383)),\n",
       " (539, np.float64(0.25038669783359574))]"
      ]
     },
     "execution_count": 264,
     "metadata": {},
     "output_type": "execute_result"
    }
   ],
   "source": [
    "sorted(list(enumerate(similarity[0])),reverse=True,key=lambda x: x[1])[1:6]"
   ]
  },
  {
   "cell_type": "code",
   "execution_count": 265,
   "id": "a18add32-e35a-43c8-beb2-35ce84bb1008",
   "metadata": {},
   "outputs": [],
   "source": [
    "def recommend(movie):\n",
    "    try:\n",
    "        movie_index = new_df[new_df['title'] == movie].index[0]\n",
    "        distances = similarity[movie_index]\n",
    "        movies_list = sorted(list(enumerate(distances)),reverse=True,key=lambda x: x[1])[1:6]\n",
    "        for i in movies_list:\n",
    "            print(new_df.iloc[i[0]]['title'])\n",
    "    except Exception as e:\n",
    "        print(\"Movie not found\")\n",
    "\n",
    "    "
   ]
  },
  {
   "cell_type": "code",
   "execution_count": 276,
   "id": "a3cf8eef-7b44-4dd5-9406-5bc00f10eac7",
   "metadata": {},
   "outputs": [
    {
     "name": "stdout",
     "output_type": "stream",
     "text": [
      "Space Battleship Yamato\n",
      "Lost in Space\n",
      "Blackthorn\n",
      "Silver Medalist\n",
      "Ender's Game\n"
     ]
    }
   ],
   "source": [
    "recommend('Guardians of the Galaxy')"
   ]
  },
  {
   "cell_type": "code",
   "execution_count": 267,
   "id": "fd57b78d-003f-475d-bebd-61d82a35609a",
   "metadata": {},
   "outputs": [
    {
     "data": {
      "text/plain": [
       "'Aliens vs Predator: Requiem'"
      ]
     },
     "execution_count": 267,
     "metadata": {},
     "output_type": "execute_result"
    }
   ],
   "source": [
    "new_df.iloc[1214]['title']"
   ]
  },
  {
   "cell_type": "code",
   "execution_count": null,
   "id": "031eb602-dbfe-453c-8737-1e0aea580293",
   "metadata": {},
   "outputs": [],
   "source": []
  }
 ],
 "metadata": {
  "kernelspec": {
   "display_name": "Python 3 (ipykernel)",
   "language": "python",
   "name": "python3"
  },
  "language_info": {
   "codemirror_mode": {
    "name": "ipython",
    "version": 3
   },
   "file_extension": ".py",
   "mimetype": "text/x-python",
   "name": "python",
   "nbconvert_exporter": "python",
   "pygments_lexer": "ipython3",
   "version": "3.12.3"
  }
 },
 "nbformat": 4,
 "nbformat_minor": 5
}
